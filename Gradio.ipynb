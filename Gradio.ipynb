{
 "cells": [
  {
   "cell_type": "code",
   "execution_count": 1,
   "metadata": {},
   "outputs": [
    {
     "name": "stdout",
     "output_type": "stream",
     "text": [
      "Requirement already satisfied: gradio in c:\\users\\mg\\anaconda3\\lib\\site-packages (2.9.1)\n",
      "Requirement already satisfied: paramiko in c:\\users\\mg\\anaconda3\\lib\\site-packages (from gradio) (2.7.1)\n",
      "Requirement already satisfied: markdown-it-py[linkify,plugins] in c:\\users\\mg\\anaconda3\\lib\\site-packages (from gradio) (2.0.1)\n",
      "Requirement already satisfied: orjson in c:\\users\\mg\\anaconda3\\lib\\site-packages (from gradio) (3.6.7)\n",
      "Requirement already satisfied: python-multipart in c:\\users\\mg\\anaconda3\\lib\\site-packages (from gradio) (0.0.5)\n",
      "Requirement already satisfied: analytics-python in c:\\users\\mg\\anaconda3\\lib\\site-packages (from gradio) (1.4.0)\n",
      "Requirement already satisfied: pycryptodome in c:\\users\\mg\\anaconda3\\lib\\site-packages (from gradio) (3.14.1)\n",
      "Requirement already satisfied: uvicorn in c:\\users\\mg\\anaconda3\\lib\\site-packages (from gradio) (0.17.6)\n",
      "Requirement already satisfied: pydub in c:\\users\\mg\\anaconda3\\lib\\site-packages (from gradio) (0.25.1)\n",
      "Requirement already satisfied: pandas in c:\\users\\mg\\anaconda3\\lib\\site-packages (from gradio) (1.0.5)\n",
      "Requirement already satisfied: numpy in c:\\users\\mg\\anaconda3\\lib\\site-packages (from gradio) (1.19.3)\n",
      "Requirement already satisfied: fastapi in c:\\users\\mg\\anaconda3\\lib\\site-packages (from gradio) (0.75.1)\n",
      "Requirement already satisfied: aiohttp in c:\\users\\mg\\anaconda3\\lib\\site-packages (from gradio) (3.8.1)\n",
      "Requirement already satisfied: ffmpy in c:\\users\\mg\\anaconda3\\lib\\site-packages (from gradio) (0.3.0)\n",
      "Requirement already satisfied: requests in c:\\users\\mg\\anaconda3\\lib\\site-packages (from gradio) (2.27.1)\n",
      "Requirement already satisfied: pillow in c:\\users\\mg\\anaconda3\\lib\\site-packages (from gradio) (7.0.0)\n",
      "Requirement already satisfied: matplotlib in c:\\users\\mg\\anaconda3\\lib\\site-packages (from gradio) (3.5.1)\n",
      "Requirement already satisfied: bcrypt>=3.1.3 in c:\\users\\mg\\anaconda3\\lib\\site-packages (from paramiko->gradio) (3.1.7)\n",
      "Requirement already satisfied: cryptography>=2.5 in c:\\users\\mg\\anaconda3\\lib\\site-packages (from paramiko->gradio) (2.9.2)\n",
      "Requirement already satisfied: pynacl>=1.0.1 in c:\\users\\mg\\anaconda3\\lib\\site-packages (from paramiko->gradio) (1.4.0)\n",
      "Requirement already satisfied: mdurl~=0.1 in c:\\users\\mg\\anaconda3\\lib\\site-packages (from markdown-it-py[linkify,plugins]->gradio) (0.1.0)\n",
      "Requirement already satisfied: attrs<22,>=19 in c:\\users\\mg\\anaconda3\\lib\\site-packages (from markdown-it-py[linkify,plugins]->gradio) (19.3.0)\n",
      "Requirement already satisfied: linkify-it-py~=1.0; extra == \"linkify\" in c:\\users\\mg\\anaconda3\\lib\\site-packages (from markdown-it-py[linkify,plugins]->gradio) (1.0.3)\n",
      "Requirement already satisfied: mdit-py-plugins; extra == \"plugins\" in c:\\users\\mg\\anaconda3\\lib\\site-packages (from markdown-it-py[linkify,plugins]->gradio) (0.3.0)\n",
      "Requirement already satisfied: six>=1.4.0 in c:\\users\\mg\\anaconda3\\lib\\site-packages (from python-multipart->gradio) (1.15.0)\n",
      "Requirement already satisfied: python-dateutil>2.1 in c:\\users\\mg\\anaconda3\\lib\\site-packages (from analytics-python->gradio) (2.8.1)\n",
      "Requirement already satisfied: backoff==1.10.0 in c:\\users\\mg\\anaconda3\\lib\\site-packages (from analytics-python->gradio) (1.10.0)\n",
      "Requirement already satisfied: monotonic>=1.5 in c:\\users\\mg\\anaconda3\\lib\\site-packages (from analytics-python->gradio) (1.6)\n",
      "Requirement already satisfied: h11>=0.8 in c:\\users\\mg\\anaconda3\\lib\\site-packages (from uvicorn->gradio) (0.13.0)\n",
      "Requirement already satisfied: click>=7.0 in c:\\users\\mg\\anaconda3\\lib\\site-packages (from uvicorn->gradio) (7.1.2)\n",
      "Requirement already satisfied: asgiref>=3.4.0 in c:\\users\\mg\\anaconda3\\lib\\site-packages (from uvicorn->gradio) (3.5.0)\n",
      "Requirement already satisfied: pytz>=2017.2 in c:\\users\\mg\\anaconda3\\lib\\site-packages (from pandas->gradio) (2020.1)\n",
      "Requirement already satisfied: pydantic!=1.7,!=1.7.1,!=1.7.2,!=1.7.3,!=1.8,!=1.8.1,<2.0.0,>=1.6.2 in c:\\users\\mg\\anaconda3\\lib\\site-packages (from fastapi->gradio) (1.9.0)\n",
      "Requirement already satisfied: starlette==0.17.1 in c:\\users\\mg\\anaconda3\\lib\\site-packages (from fastapi->gradio) (0.17.1)\n",
      "Requirement already satisfied: frozenlist>=1.1.1 in c:\\users\\mg\\anaconda3\\lib\\site-packages (from aiohttp->gradio) (1.2.0)\n",
      "Requirement already satisfied: yarl<2.0,>=1.0 in c:\\users\\mg\\anaconda3\\lib\\site-packages (from aiohttp->gradio) (1.7.2)\n",
      "Requirement already satisfied: charset-normalizer<3.0,>=2.0 in c:\\users\\mg\\anaconda3\\lib\\site-packages (from aiohttp->gradio) (2.0.10)\n",
      "Requirement already satisfied: async-timeout<5.0,>=4.0.0a3 in c:\\users\\mg\\anaconda3\\lib\\site-packages (from aiohttp->gradio) (4.0.2)\n",
      "Requirement already satisfied: multidict<7.0,>=4.5 in c:\\users\\mg\\anaconda3\\lib\\site-packages (from aiohttp->gradio) (5.2.0)\n",
      "Requirement already satisfied: aiosignal>=1.1.2 in c:\\users\\mg\\anaconda3\\lib\\site-packages (from aiohttp->gradio) (1.2.0)\n",
      "Requirement already satisfied: certifi>=2017.4.17 in c:\\users\\mg\\anaconda3\\lib\\site-packages (from requests->gradio) (2020.6.20)\n",
      "Requirement already satisfied: idna<4,>=2.5; python_version >= \"3\" in c:\\users\\mg\\anaconda3\\lib\\site-packages (from requests->gradio) (2.10)\n",
      "Requirement already satisfied: urllib3<1.27,>=1.21.1 in c:\\users\\mg\\anaconda3\\lib\\site-packages (from requests->gradio) (1.26.8)\n",
      "Requirement already satisfied: kiwisolver>=1.0.1 in c:\\users\\mg\\anaconda3\\lib\\site-packages (from matplotlib->gradio) (1.2.0)\n",
      "Requirement already satisfied: packaging>=20.0 in c:\\users\\mg\\anaconda3\\lib\\site-packages (from matplotlib->gradio) (20.4)\n",
      "Requirement already satisfied: pyparsing>=2.2.1 in c:\\users\\mg\\anaconda3\\lib\\site-packages (from matplotlib->gradio) (2.4.7)\n",
      "Requirement already satisfied: cycler>=0.10 in c:\\users\\mg\\anaconda3\\lib\\site-packages (from matplotlib->gradio) (0.10.0)\n",
      "Requirement already satisfied: fonttools>=4.22.0 in c:\\users\\mg\\anaconda3\\lib\\site-packages (from matplotlib->gradio) (4.29.1)\n",
      "Requirement already satisfied: cffi>=1.1 in c:\\users\\mg\\anaconda3\\lib\\site-packages (from bcrypt>=3.1.3->paramiko->gradio) (1.14.0)\n",
      "Requirement already satisfied: uc-micro-py in c:\\users\\mg\\anaconda3\\lib\\site-packages (from linkify-it-py~=1.0; extra == \"linkify\"->markdown-it-py[linkify,plugins]->gradio) (1.0.1)\n",
      "Requirement already satisfied: typing-extensions>=3.7.4.3 in c:\\users\\mg\\anaconda3\\lib\\site-packages (from pydantic!=1.7,!=1.7.1,!=1.7.2,!=1.7.3,!=1.8,!=1.8.1,<2.0.0,>=1.6.2->fastapi->gradio) (3.7.4.3)\n",
      "Requirement already satisfied: anyio<4,>=3.0.0 in c:\\users\\mg\\anaconda3\\lib\\site-packages (from starlette==0.17.1->fastapi->gradio) (3.5.0)\n",
      "Requirement already satisfied: pycparser in c:\\users\\mg\\anaconda3\\lib\\site-packages (from cffi>=1.1->bcrypt>=3.1.3->paramiko->gradio) (2.20)\n",
      "Requirement already satisfied: sniffio>=1.1 in c:\\users\\mg\\anaconda3\\lib\\site-packages (from anyio<4,>=3.0.0->starlette==0.17.1->fastapi->gradio) (1.2.0)\n"
     ]
    }
   ],
   "source": [
    "!pip install gradio"
   ]
  },
  {
   "cell_type": "code",
   "execution_count": 2,
   "metadata": {},
   "outputs": [],
   "source": [
    "import gradio as gr"
   ]
  },
  {
   "cell_type": "code",
   "execution_count": 3,
   "metadata": {},
   "outputs": [
    {
     "name": "stdout",
     "output_type": "stream",
     "text": [
      "Running on local URL:  http://127.0.0.1:7877/\n",
      "\n",
      "To create a public link, set `share=True` in `launch()`.\n"
     ]
    },
    {
     "data": {
      "text/html": [
       "\n",
       "        <iframe\n",
       "            width=\"900\"\n",
       "            height=\"500\"\n",
       "            src=\"http://127.0.0.1:7877/\"\n",
       "            frameborder=\"0\"\n",
       "            allowfullscreen\n",
       "        ></iframe>\n",
       "        "
      ],
      "text/plain": [
       "<IPython.lib.display.IFrame at 0x1a1fd6f7c10>"
      ]
     },
     "metadata": {},
     "output_type": "display_data"
    },
    {
     "data": {
      "text/plain": [
       "(<fastapi.applications.FastAPI at 0x1a1f9d2e8e0>,\n",
       " 'http://127.0.0.1:7877/',\n",
       " None)"
      ]
     },
     "execution_count": 3,
     "metadata": {},
     "output_type": "execute_result"
    }
   ],
   "source": [
    "def greet(name):\n",
    "    return \"Hello \" + name + '!!'\n",
    "\n",
    "iface = gr.Interface(fn=greet, inputs = 'text', outputs = 'text')\n",
    "iface.launch()"
   ]
  },
  {
   "cell_type": "code",
   "execution_count": 4,
   "metadata": {},
   "outputs": [
    {
     "name": "stdout",
     "output_type": "stream",
     "text": [
      "Running on local URL:  http://127.0.0.1:7878/\n",
      "\n",
      "To create a public link, set `share=True` in `launch()`.\n"
     ]
    },
    {
     "data": {
      "text/html": [
       "\n",
       "        <iframe\n",
       "            width=\"900\"\n",
       "            height=\"500\"\n",
       "            src=\"http://127.0.0.1:7878/\"\n",
       "            frameborder=\"0\"\n",
       "            allowfullscreen\n",
       "        ></iframe>\n",
       "        "
      ],
      "text/plain": [
       "<IPython.lib.display.IFrame at 0x1a1fdd87280>"
      ]
     },
     "metadata": {},
     "output_type": "display_data"
    },
    {
     "data": {
      "text/plain": [
       "(<fastapi.applications.FastAPI at 0x1a1f9d2e8e0>,\n",
       " 'http://127.0.0.1:7878/',\n",
       " None)"
      ]
     },
     "execution_count": 4,
     "metadata": {},
     "output_type": "execute_result"
    }
   ],
   "source": [
    "import random\n",
    "def guessTheNumber(num):\n",
    "    random_num = random.randint(1,5)\n",
    "    if random_num == num:\n",
    "        return \"You Won, The Number is \"+str(random_num)\n",
    "    else:\n",
    "        return \"You Lost, The Number is \"+str(random_num)\n",
    "    \n",
    "iface = gr.Interface(fn = guessTheNumber, inputs = 'number', outputs = 'text', allow_flagging='never')\n",
    "iface.launch()"
   ]
  },
  {
   "cell_type": "code",
   "execution_count": 12,
   "metadata": {},
   "outputs": [
    {
     "name": "stdout",
     "output_type": "stream",
     "text": [
      "Running on local URL:  http://127.0.0.1:7882/\n",
      "\n",
      "To create a public link, set `share=True` in `launch()`.\n"
     ]
    },
    {
     "data": {
      "text/html": [
       "\n",
       "        <iframe\n",
       "            width=\"900\"\n",
       "            height=\"500\"\n",
       "            src=\"http://127.0.0.1:7882/\"\n",
       "            frameborder=\"0\"\n",
       "            allowfullscreen\n",
       "        ></iframe>\n",
       "        "
      ],
      "text/plain": [
       "<IPython.lib.display.IFrame at 0x1a1fdd87f40>"
      ]
     },
     "metadata": {},
     "output_type": "display_data"
    },
    {
     "data": {
      "text/plain": [
       "(<fastapi.applications.FastAPI at 0x1a1f9d2e8e0>,\n",
       " 'http://127.0.0.1:7882/',\n",
       " None)"
      ]
     },
     "execution_count": 12,
     "metadata": {},
     "output_type": "execute_result"
    }
   ],
   "source": [
    "import numpy as np\n",
    "def sepia(input_img):\n",
    "    sepia_filter = np.array([[0.393, 0.769, 0.189], [0.349, 0.686, 0.168], [0.272, 0.534, 0.131]])\n",
    "    sepia_img = input_img.dot(sepia_filter.T)\n",
    "    sepia_img /= sepia_img.max()\n",
    "    return sepia_img\n",
    "\n",
    "iface = gr.Interface(sepia, gr.inputs.Image(shape=(200,200)), outputs = 'image', flagging_options=['True', 'False', 'I do not know'])\n",
    "iface.launch()"
   ]
  },
  {
   "cell_type": "code",
   "execution_count": null,
   "metadata": {},
   "outputs": [],
   "source": []
  },
  {
   "cell_type": "code",
   "execution_count": null,
   "metadata": {},
   "outputs": [],
   "source": []
  },
  {
   "cell_type": "code",
   "execution_count": null,
   "metadata": {},
   "outputs": [],
   "source": []
  },
  {
   "cell_type": "code",
   "execution_count": null,
   "metadata": {},
   "outputs": [],
   "source": []
  },
  {
   "cell_type": "code",
   "execution_count": null,
   "metadata": {},
   "outputs": [],
   "source": []
  },
  {
   "cell_type": "code",
   "execution_count": null,
   "metadata": {},
   "outputs": [],
   "source": []
  },
  {
   "cell_type": "code",
   "execution_count": null,
   "metadata": {},
   "outputs": [],
   "source": []
  },
  {
   "cell_type": "code",
   "execution_count": null,
   "metadata": {},
   "outputs": [],
   "source": []
  },
  {
   "cell_type": "code",
   "execution_count": null,
   "metadata": {},
   "outputs": [],
   "source": []
  },
  {
   "cell_type": "code",
   "execution_count": null,
   "metadata": {},
   "outputs": [],
   "source": []
  },
  {
   "cell_type": "code",
   "execution_count": null,
   "metadata": {},
   "outputs": [],
   "source": []
  },
  {
   "cell_type": "code",
   "execution_count": null,
   "metadata": {},
   "outputs": [],
   "source": []
  }
 ],
 "metadata": {
  "kernelspec": {
   "display_name": "Python 3",
   "language": "python",
   "name": "python3"
  },
  "language_info": {
   "codemirror_mode": {
    "name": "ipython",
    "version": 3
   },
   "file_extension": ".py",
   "mimetype": "text/x-python",
   "name": "python",
   "nbconvert_exporter": "python",
   "pygments_lexer": "ipython3",
   "version": "3.8.3"
  }
 },
 "nbformat": 4,
 "nbformat_minor": 4
}
